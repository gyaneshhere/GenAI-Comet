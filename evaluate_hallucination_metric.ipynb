{
  "cells": [
    {
      "cell_type": "markdown",
      "metadata": {
        "id": "view-in-github",
        "colab_type": "text"
      },
      "source": [
        "<a href=\"https://colab.research.google.com/github/gyaneshhere/GenAI-Comet/blob/main/evaluate_hallucination_metric.ipynb\" target=\"_parent\"><img src=\"https://colab.research.google.com/assets/colab-badge.svg\" alt=\"Open In Colab\"/></a>"
      ]
    },
    {
      "cell_type": "markdown",
      "metadata": {
        "id": "e1oCXeVPGQBf"
      },
      "source": [
        "# Evaluating Opik's Hallucination Metric\n",
        "\n",
        "For this guide we will be evaluating the Hallucination metric included in the LLM Evaluation SDK which will showcase both how to use the `evaluation` functionality in the platform as well as the quality of the Hallucination metric included in the SDK."
      ]
    },
    {
      "cell_type": "markdown",
      "metadata": {
        "id": "fiBqNWpAGQBi"
      },
      "source": [
        "## Creating an account on Comet.com\n",
        "\n",
        "[Comet](https://www.comet.com/site/?from=llm&utm_source=opik&utm_medium=colab&utm_content=eval_hall&utm_campaign=opik) provides a hosted version of the Opik platform, [simply create an account](https://www.comet.com/signup?from=llm&utm_source=opik&utm_medium=colab&utm_content=eval_hall&utm_campaign=opik) and grab you API Key.\n",
        "\n",
        "> You can also run the Opik platform locally, see the [installation guide](https://www.comet.com/docs/opik/self-host/overview/?from=llm&utm_source=opik&utm_medium=colab&utm_content=eval_hall&utm_campaign=opik) for more information."
      ]
    },
    {
      "cell_type": "code",
      "execution_count": null,
      "metadata": {
        "colab": {
          "base_uri": "https://localhost:8080/"
        },
        "id": "sTjJOm0dGQBj",
        "outputId": "2c8eed20-c1cd-4fe7-ec62-9efd5027e44e"
      },
      "outputs": [
        {
          "output_type": "stream",
          "name": "stdout",
          "text": [
            "\u001b[2K     \u001b[90m━━━━━━━━━━━━━━━━━━━━━━━━━━━━━━━━━━━━━━━━\u001b[0m \u001b[32m89.9/89.9 kB\u001b[0m \u001b[31m2.8 MB/s\u001b[0m eta \u001b[36m0:00:00\u001b[0m\n",
            "\u001b[2K     \u001b[90m━━━━━━━━━━━━━━━━━━━━━━━━━━━━━━━━━━━━━━━━\u001b[0m \u001b[32m149.3/149.3 kB\u001b[0m \u001b[31m2.1 MB/s\u001b[0m eta \u001b[36m0:00:00\u001b[0m\n",
            "\u001b[2K   \u001b[90m━━━━━━━━━━━━━━━━━━━━━━━━━━━━━━━━━━━━━━━━\u001b[0m \u001b[32m418.0/418.0 kB\u001b[0m \u001b[31m14.1 MB/s\u001b[0m eta \u001b[36m0:00:00\u001b[0m\n",
            "\u001b[2K   \u001b[90m━━━━━━━━━━━━━━━━━━━━━━━━━━━━━━━━━━━━━━━━\u001b[0m \u001b[32m42.1/42.1 MB\u001b[0m \u001b[31m16.6 MB/s\u001b[0m eta \u001b[36m0:00:00\u001b[0m\n",
            "\u001b[2K   \u001b[90m━━━━━━━━━━━━━━━━━━━━━━━━━━━━━━━━━━━━━━━━\u001b[0m \u001b[32m13.1/13.1 MB\u001b[0m \u001b[31m53.2 MB/s\u001b[0m eta \u001b[36m0:00:00\u001b[0m\n",
            "\u001b[2K   \u001b[90m━━━━━━━━━━━━━━━━━━━━━━━━━━━━━━━━━━━━━━━━\u001b[0m \u001b[32m68.6/68.6 kB\u001b[0m \u001b[31m3.9 MB/s\u001b[0m eta \u001b[36m0:00:00\u001b[0m\n",
            "\u001b[2K   \u001b[90m━━━━━━━━━━━━━━━━━━━━━━━━━━━━━━━━━━━━━━━━\u001b[0m \u001b[32m161.7/161.7 kB\u001b[0m \u001b[31m8.8 MB/s\u001b[0m eta \u001b[36m0:00:00\u001b[0m\n",
            "\u001b[2K   \u001b[90m━━━━━━━━━━━━━━━━━━━━━━━━━━━━━━━━━━━━━━━━\u001b[0m \u001b[32m7.0/7.0 MB\u001b[0m \u001b[31m54.2 MB/s\u001b[0m eta \u001b[36m0:00:00\u001b[0m\n",
            "\u001b[2K   \u001b[90m━━━━━━━━━━━━━━━━━━━━━━━━━━━━━━━━━━━━━━━━\u001b[0m \u001b[32m3.1/3.1 MB\u001b[0m \u001b[31m54.9 MB/s\u001b[0m eta \u001b[36m0:00:00\u001b[0m\n",
            "\u001b[2K   \u001b[90m━━━━━━━━━━━━━━━━━━━━━━━━━━━━━━━━━━━━━━━━\u001b[0m \u001b[32m1.2/1.2 MB\u001b[0m \u001b[31m32.2 MB/s\u001b[0m eta \u001b[36m0:00:00\u001b[0m\n",
            "\u001b[2K   \u001b[90m━━━━━━━━━━━━━━━━━━━━━━━━━━━━━━━━━━━━━━━━\u001b[0m \u001b[32m65.4/65.4 kB\u001b[0m \u001b[31m3.4 MB/s\u001b[0m eta \u001b[36m0:00:00\u001b[0m\n",
            "\u001b[?25h\u001b[31mERROR: pip's dependency resolver does not currently take into account all the packages that are installed. This behaviour is the source of the following dependency conflicts.\n",
            "google-colab 1.0.0 requires pandas==2.2.2, but you have pandas 2.2.3 which is incompatible.\u001b[0m\u001b[31m\n",
            "\u001b[0m"
          ]
        }
      ],
      "source": [
        "%pip install opik pyarrow pandas fsspec huggingface_hub --upgrade --quiet"
      ]
    },
    {
      "cell_type": "code",
      "execution_count": null,
      "metadata": {
        "colab": {
          "base_uri": "https://localhost:8080/"
        },
        "id": "-IC6_5GzGQBk",
        "outputId": "127c2560-2b0d-4590-a912-9cba01a77164"
      },
      "outputs": [
        {
          "output_type": "stream",
          "name": "stderr",
          "text": [
            "OPIK: Your Opik API key is available in your account settings, can be found at https://www.comet.com/api/my/settings/ for Opik cloud\n"
          ]
        },
        {
          "name": "stdout",
          "output_type": "stream",
          "text": [
            "Please enter your Opik API key:··········\n",
            "Do you want to use \"gyaneshhere-gmail-com\" workspace? (Y/n)Y\n"
          ]
        },
        {
          "output_type": "stream",
          "name": "stderr",
          "text": [
            "OPIK: Configuration saved to file: /root/.opik.config\n"
          ]
        }
      ],
      "source": [
        "import opik\n",
        "\n",
        "opik.configure(use_local=False)"
      ]
    },
    {
      "cell_type": "markdown",
      "metadata": {
        "id": "zjYvIEjcGQBk"
      },
      "source": [
        "## Preparing our environment\n",
        "\n",
        "First, we will install configure the OpenAI API key and create a new Opik dataset"
      ]
    },
    {
      "cell_type": "code",
      "execution_count": null,
      "metadata": {
        "id": "C84jCmoBGQBl"
      },
      "outputs": [],
      "source": [
        "import os\n",
        "import getpass\n",
        "from google.colab import userdata\n",
        "\n",
        "if \"OPENAI_API_KEY\" not in os.environ:\n",
        "    os.environ[\"OPENAI_API_KEY\"] = userdata.get('OPENAI_API_KEY')"
      ]
    },
    {
      "cell_type": "markdown",
      "metadata": {
        "id": "1-HPZjGLGQBl"
      },
      "source": [
        "We will be using the [HaluEval dataset](https://huggingface.co/datasets/pminervini/HaluEval?library=pandas) which according to this [paper](https://arxiv.org/pdf/2305.11747) ChatGPT detects 86.2% of hallucinations. The first step will be to create a dataset in the platform so we can keep track of the results of the evaluation.\n",
        "\n",
        "Since the insert methods in the SDK deduplicates items, we can insert 50 items and if the items already exist, Opik will automatically remove them."
      ]
    },
    {
      "cell_type": "code",
      "execution_count": null,
      "metadata": {
        "colab": {
          "base_uri": "https://localhost:8080/"
        },
        "id": "mZzujn0SGQBl",
        "outputId": "8d9978bf-b64a-41f4-ce63-0f5cb21ae8a1"
      },
      "outputs": [
        {
          "output_type": "stream",
          "name": "stderr",
          "text": [
            "OPIK: Created a \"HaluEval\" dataset at https://www.comet.com/opik/api/v1/session/redirect/datasets/?dataset_id=0195c91d-6ef8-78ef-88d6-b03a2c4da163&path=aHR0cHM6Ly93d3cuY29tZXQuY29tL29waWsvYXBpLw==.\n"
          ]
        }
      ],
      "source": [
        "# Create dataset\n",
        "import opik\n",
        "import pandas as pd\n",
        "\n",
        "client = opik.Opik()\n",
        "\n",
        "# Create dataset\n",
        "dataset = client.get_or_create_dataset(name=\"HaluEval\", description=\"HaluEval dataset\")\n",
        "\n",
        "# Insert items into dataset\n",
        "df = pd.read_parquet(\n",
        "    \"hf://datasets/pminervini/HaluEval/general/data-00000-of-00001.parquet\"\n",
        ")\n",
        "df = df.sample(n=50, random_state=42)\n",
        "\n",
        "dataset_records = [\n",
        "    {\n",
        "        \"input\": x[\"user_query\"],\n",
        "        \"llm_output\": x[\"chatgpt_response\"],\n",
        "        \"expected_hallucination_label\": x[\"hallucination\"],\n",
        "    }\n",
        "    for x in df.to_dict(orient=\"records\")\n",
        "]\n",
        "\n",
        "dataset.insert(dataset_records)"
      ]
    },
    {
      "cell_type": "markdown",
      "metadata": {
        "id": "6YNcXTakGQBm"
      },
      "source": [
        "## Evaluating the hallucination metric\n",
        "\n",
        "In order to evaluate the performance of the Opik hallucination metric, we will define:\n",
        "\n",
        "- Evaluation task: Our evaluation task will use the data in the Dataset to return a hallucination score computed using the Opik hallucination metric.\n",
        "- Scoring metric: We will use the `Equals` metric to check if the hallucination score computed matches the expected output.\n",
        "\n",
        "By defining the evaluation task in this way, we will be able to understand how well Opik's hallucination metric is able to detect hallucinations in the dataset."
      ]
    },
    {
      "cell_type": "code",
      "execution_count": null,
      "metadata": {
        "colab": {
          "base_uri": "https://localhost:8080/",
          "height": 1000
        },
        "id": "kEujVUswGQBm",
        "outputId": "fefbde6d-1817-4681-b1c6-faa9f84baae1"
      },
      "outputs": [
        {
          "output_type": "stream",
          "name": "stderr",
          "text": [
            "\rEvaluation:   0%|          | 0/50 [00:00<?, ?it/s]\u001b[92m17:05:32 - LiteLLM:WARNING\u001b[0m: model_param_helper.py:147 - Error getting transcription kwargs cannot import name 'TranscriptionCreateParamsNonStreaming' from 'openai.types.audio.transcription_create_params' (/usr/local/lib/python3.11/dist-packages/openai/types/audio/transcription_create_params.py)\n",
            "OPIK: Started logging traces to the \"Default Project\" project at https://www.comet.com/opik/api/v1/session/redirect/projects/?trace_id=0195c91d-bea6-7c52-8f31-454ae2e0f742&path=aHR0cHM6Ly93d3cuY29tZXQuY29tL29waWsvYXBpLw==.\n",
            "WARNING:LiteLLM:Error getting transcription kwargs cannot import name 'TranscriptionCreateParamsNonStreaming' from 'openai.types.audio.transcription_create_params' (/usr/local/lib/python3.11/dist-packages/openai/types/audio/transcription_create_params.py)\n",
            "\u001b[92m17:05:32 - LiteLLM:WARNING\u001b[0m: model_param_helper.py:147 - Error getting transcription kwargs cannot import name 'TranscriptionCreateParamsNonStreaming' from 'openai.types.audio.transcription_create_params' (/usr/local/lib/python3.11/dist-packages/openai/types/audio/transcription_create_params.py)\n",
            "WARNING:LiteLLM:Error getting transcription kwargs cannot import name 'TranscriptionCreateParamsNonStreaming' from 'openai.types.audio.transcription_create_params' (/usr/local/lib/python3.11/dist-packages/openai/types/audio/transcription_create_params.py)\n",
            "Evaluation:   2%|▏         | 1/50 [00:07<06:26,  7.89s/it]\u001b[92m17:05:33 - LiteLLM:WARNING\u001b[0m: model_param_helper.py:147 - Error getting transcription kwargs cannot import name 'TranscriptionCreateParamsNonStreaming' from 'openai.types.audio.transcription_create_params' (/usr/local/lib/python3.11/dist-packages/openai/types/audio/transcription_create_params.py)\n",
            "WARNING:LiteLLM:Error getting transcription kwargs cannot import name 'TranscriptionCreateParamsNonStreaming' from 'openai.types.audio.transcription_create_params' (/usr/local/lib/python3.11/dist-packages/openai/types/audio/transcription_create_params.py)\n",
            "\u001b[92m17:05:33 - LiteLLM:WARNING\u001b[0m: model_param_helper.py:147 - Error getting transcription kwargs cannot import name 'TranscriptionCreateParamsNonStreaming' from 'openai.types.audio.transcription_create_params' (/usr/local/lib/python3.11/dist-packages/openai/types/audio/transcription_create_params.py)\n",
            "WARNING:LiteLLM:Error getting transcription kwargs cannot import name 'TranscriptionCreateParamsNonStreaming' from 'openai.types.audio.transcription_create_params' (/usr/local/lib/python3.11/dist-packages/openai/types/audio/transcription_create_params.py)\n",
            "\u001b[92m17:05:33 - LiteLLM:WARNING\u001b[0m: model_param_helper.py:147 - Error getting transcription kwargs cannot import name 'TranscriptionCreateParamsNonStreaming' from 'openai.types.audio.transcription_create_params' (/usr/local/lib/python3.11/dist-packages/openai/types/audio/transcription_create_params.py)\n",
            "WARNING:LiteLLM:Error getting transcription kwargs cannot import name 'TranscriptionCreateParamsNonStreaming' from 'openai.types.audio.transcription_create_params' (/usr/local/lib/python3.11/dist-packages/openai/types/audio/transcription_create_params.py)\n",
            "\u001b[92m17:05:33 - LiteLLM:WARNING\u001b[0m: model_param_helper.py:147 - Error getting transcription kwargs cannot import name 'TranscriptionCreateParamsNonStreaming' from 'openai.types.audio.transcription_create_params' (/usr/local/lib/python3.11/dist-packages/openai/types/audio/transcription_create_params.py)\n",
            "WARNING:LiteLLM:Error getting transcription kwargs cannot import name 'TranscriptionCreateParamsNonStreaming' from 'openai.types.audio.transcription_create_params' (/usr/local/lib/python3.11/dist-packages/openai/types/audio/transcription_create_params.py)\n",
            "Evaluation:   4%|▍         | 2/50 [00:08<02:54,  3.63s/it]\u001b[92m17:05:33 - LiteLLM:WARNING\u001b[0m: model_param_helper.py:147 - Error getting transcription kwargs cannot import name 'TranscriptionCreateParamsNonStreaming' from 'openai.types.audio.transcription_create_params' (/usr/local/lib/python3.11/dist-packages/openai/types/audio/transcription_create_params.py)\n",
            "WARNING:LiteLLM:Error getting transcription kwargs cannot import name 'TranscriptionCreateParamsNonStreaming' from 'openai.types.audio.transcription_create_params' (/usr/local/lib/python3.11/dist-packages/openai/types/audio/transcription_create_params.py)\n",
            "\u001b[92m17:05:33 - LiteLLM:WARNING\u001b[0m: model_param_helper.py:147 - Error getting transcription kwargs cannot import name 'TranscriptionCreateParamsNonStreaming' from 'openai.types.audio.transcription_create_params' (/usr/local/lib/python3.11/dist-packages/openai/types/audio/transcription_create_params.py)\n",
            "WARNING:LiteLLM:Error getting transcription kwargs cannot import name 'TranscriptionCreateParamsNonStreaming' from 'openai.types.audio.transcription_create_params' (/usr/local/lib/python3.11/dist-packages/openai/types/audio/transcription_create_params.py)\n",
            "Evaluation:   8%|▊         | 4/50 [00:08<01:03,  1.38s/it]\u001b[92m17:05:33 - LiteLLM:WARNING\u001b[0m: model_param_helper.py:147 - Error getting transcription kwargs cannot import name 'TranscriptionCreateParamsNonStreaming' from 'openai.types.audio.transcription_create_params' (/usr/local/lib/python3.11/dist-packages/openai/types/audio/transcription_create_params.py)\n",
            "WARNING:LiteLLM:Error getting transcription kwargs cannot import name 'TranscriptionCreateParamsNonStreaming' from 'openai.types.audio.transcription_create_params' (/usr/local/lib/python3.11/dist-packages/openai/types/audio/transcription_create_params.py)\n",
            "\u001b[92m17:05:33 - LiteLLM:WARNING\u001b[0m: model_param_helper.py:147 - Error getting transcription kwargs cannot import name 'TranscriptionCreateParamsNonStreaming' from 'openai.types.audio.transcription_create_params' (/usr/local/lib/python3.11/dist-packages/openai/types/audio/transcription_create_params.py)\n",
            "WARNING:LiteLLM:Error getting transcription kwargs cannot import name 'TranscriptionCreateParamsNonStreaming' from 'openai.types.audio.transcription_create_params' (/usr/local/lib/python3.11/dist-packages/openai/types/audio/transcription_create_params.py)\n",
            "Evaluation:  10%|█         | 5/50 [00:08<00:46,  1.02s/it]\u001b[92m17:05:33 - LiteLLM:WARNING\u001b[0m: model_param_helper.py:147 - Error getting transcription kwargs cannot import name 'TranscriptionCreateParamsNonStreaming' from 'openai.types.audio.transcription_create_params' (/usr/local/lib/python3.11/dist-packages/openai/types/audio/transcription_create_params.py)\n",
            "WARNING:LiteLLM:Error getting transcription kwargs cannot import name 'TranscriptionCreateParamsNonStreaming' from 'openai.types.audio.transcription_create_params' (/usr/local/lib/python3.11/dist-packages/openai/types/audio/transcription_create_params.py)\n",
            "\u001b[92m17:05:33 - LiteLLM:WARNING\u001b[0m: model_param_helper.py:147 - Error getting transcription kwargs cannot import name 'TranscriptionCreateParamsNonStreaming' from 'openai.types.audio.transcription_create_params' (/usr/local/lib/python3.11/dist-packages/openai/types/audio/transcription_create_params.py)\n",
            "WARNING:LiteLLM:Error getting transcription kwargs cannot import name 'TranscriptionCreateParamsNonStreaming' from 'openai.types.audio.transcription_create_params' (/usr/local/lib/python3.11/dist-packages/openai/types/audio/transcription_create_params.py)\n",
            "Evaluation:  12%|█▏        | 6/50 [00:09<00:35,  1.26it/s]\u001b[92m17:05:33 - LiteLLM:WARNING\u001b[0m: model_param_helper.py:147 - Error getting transcription kwargs cannot import name 'TranscriptionCreateParamsNonStreaming' from 'openai.types.audio.transcription_create_params' (/usr/local/lib/python3.11/dist-packages/openai/types/audio/transcription_create_params.py)\n",
            "WARNING:LiteLLM:Error getting transcription kwargs cannot import name 'TranscriptionCreateParamsNonStreaming' from 'openai.types.audio.transcription_create_params' (/usr/local/lib/python3.11/dist-packages/openai/types/audio/transcription_create_params.py)\n",
            "\u001b[92m17:05:33 - LiteLLM:WARNING\u001b[0m: model_param_helper.py:147 - Error getting transcription kwargs cannot import name 'TranscriptionCreateParamsNonStreaming' from 'openai.types.audio.transcription_create_params' (/usr/local/lib/python3.11/dist-packages/openai/types/audio/transcription_create_params.py)\n",
            "WARNING:LiteLLM:Error getting transcription kwargs cannot import name 'TranscriptionCreateParamsNonStreaming' from 'openai.types.audio.transcription_create_params' (/usr/local/lib/python3.11/dist-packages/openai/types/audio/transcription_create_params.py)\n",
            "\u001b[92m17:05:33 - LiteLLM:WARNING\u001b[0m: model_param_helper.py:147 - Error getting transcription kwargs cannot import name 'TranscriptionCreateParamsNonStreaming' from 'openai.types.audio.transcription_create_params' (/usr/local/lib/python3.11/dist-packages/openai/types/audio/transcription_create_params.py)\n",
            "WARNING:LiteLLM:Error getting transcription kwargs cannot import name 'TranscriptionCreateParamsNonStreaming' from 'openai.types.audio.transcription_create_params' (/usr/local/lib/python3.11/dist-packages/openai/types/audio/transcription_create_params.py)\n",
            "\u001b[92m17:05:33 - LiteLLM:WARNING\u001b[0m: model_param_helper.py:147 - Error getting transcription kwargs cannot import name 'TranscriptionCreateParamsNonStreaming' from 'openai.types.audio.transcription_create_params' (/usr/local/lib/python3.11/dist-packages/openai/types/audio/transcription_create_params.py)\n",
            "WARNING:LiteLLM:Error getting transcription kwargs cannot import name 'TranscriptionCreateParamsNonStreaming' from 'openai.types.audio.transcription_create_params' (/usr/local/lib/python3.11/dist-packages/openai/types/audio/transcription_create_params.py)\n",
            "\u001b[92m17:05:34 - LiteLLM:WARNING\u001b[0m: model_param_helper.py:147 - Error getting transcription kwargs cannot import name 'TranscriptionCreateParamsNonStreaming' from 'openai.types.audio.transcription_create_params' (/usr/local/lib/python3.11/dist-packages/openai/types/audio/transcription_create_params.py)\n",
            "WARNING:LiteLLM:Error getting transcription kwargs cannot import name 'TranscriptionCreateParamsNonStreaming' from 'openai.types.audio.transcription_create_params' (/usr/local/lib/python3.11/dist-packages/openai/types/audio/transcription_create_params.py)\n",
            "\u001b[92m17:05:34 - LiteLLM:WARNING\u001b[0m: model_param_helper.py:147 - Error getting transcription kwargs cannot import name 'TranscriptionCreateParamsNonStreaming' from 'openai.types.audio.transcription_create_params' (/usr/local/lib/python3.11/dist-packages/openai/types/audio/transcription_create_params.py)\n",
            "WARNING:LiteLLM:Error getting transcription kwargs cannot import name 'TranscriptionCreateParamsNonStreaming' from 'openai.types.audio.transcription_create_params' (/usr/local/lib/python3.11/dist-packages/openai/types/audio/transcription_create_params.py)\n",
            "\u001b[92m17:05:34 - LiteLLM:WARNING\u001b[0m: model_param_helper.py:147 - Error getting transcription kwargs cannot import name 'TranscriptionCreateParamsNonStreaming' from 'openai.types.audio.transcription_create_params' (/usr/local/lib/python3.11/dist-packages/openai/types/audio/transcription_create_params.py)\n",
            "Evaluation:  14%|█▍        | 7/50 [00:09<00:26,  1.62it/s]WARNING:LiteLLM:Error getting transcription kwargs cannot import name 'TranscriptionCreateParamsNonStreaming' from 'openai.types.audio.transcription_create_params' (/usr/local/lib/python3.11/dist-packages/openai/types/audio/transcription_create_params.py)\n",
            "\u001b[92m17:05:34 - LiteLLM:WARNING\u001b[0m: model_param_helper.py:147 - Error getting transcription kwargs cannot import name 'TranscriptionCreateParamsNonStreaming' from 'openai.types.audio.transcription_create_params' (/usr/local/lib/python3.11/dist-packages/openai/types/audio/transcription_create_params.py)\n",
            "WARNING:LiteLLM:Error getting transcription kwargs cannot import name 'TranscriptionCreateParamsNonStreaming' from 'openai.types.audio.transcription_create_params' (/usr/local/lib/python3.11/dist-packages/openai/types/audio/transcription_create_params.py)\n",
            "\u001b[92m17:05:34 - LiteLLM:WARNING\u001b[0m: model_param_helper.py:147 - Error getting transcription kwargs cannot import name 'TranscriptionCreateParamsNonStreaming' from 'openai.types.audio.transcription_create_params' (/usr/local/lib/python3.11/dist-packages/openai/types/audio/transcription_create_params.py)\n",
            "WARNING:LiteLLM:Error getting transcription kwargs cannot import name 'TranscriptionCreateParamsNonStreaming' from 'openai.types.audio.transcription_create_params' (/usr/local/lib/python3.11/dist-packages/openai/types/audio/transcription_create_params.py)\n",
            "\u001b[92m17:05:34 - LiteLLM:WARNING\u001b[0m: model_param_helper.py:147 - Error getting transcription kwargs cannot import name 'TranscriptionCreateParamsNonStreaming' from 'openai.types.audio.transcription_create_params' (/usr/local/lib/python3.11/dist-packages/openai/types/audio/transcription_create_params.py)\n",
            "WARNING:LiteLLM:Error getting transcription kwargs cannot import name 'TranscriptionCreateParamsNonStreaming' from 'openai.types.audio.transcription_create_params' (/usr/local/lib/python3.11/dist-packages/openai/types/audio/transcription_create_params.py)\n",
            "Evaluation:  20%|██        | 10/50 [00:09<00:11,  3.36it/s]\u001b[92m17:05:34 - LiteLLM:WARNING\u001b[0m: model_param_helper.py:147 - Error getting transcription kwargs cannot import name 'TranscriptionCreateParamsNonStreaming' from 'openai.types.audio.transcription_create_params' (/usr/local/lib/python3.11/dist-packages/openai/types/audio/transcription_create_params.py)\n",
            "WARNING:LiteLLM:Error getting transcription kwargs cannot import name 'TranscriptionCreateParamsNonStreaming' from 'openai.types.audio.transcription_create_params' (/usr/local/lib/python3.11/dist-packages/openai/types/audio/transcription_create_params.py)\n",
            "\u001b[92m17:05:34 - LiteLLM:WARNING\u001b[0m: model_param_helper.py:147 - Error getting transcription kwargs cannot import name 'TranscriptionCreateParamsNonStreaming' from 'openai.types.audio.transcription_create_params' (/usr/local/lib/python3.11/dist-packages/openai/types/audio/transcription_create_params.py)\n",
            "WARNING:LiteLLM:Error getting transcription kwargs cannot import name 'TranscriptionCreateParamsNonStreaming' from 'openai.types.audio.transcription_create_params' (/usr/local/lib/python3.11/dist-packages/openai/types/audio/transcription_create_params.py)\n",
            "Evaluation:  24%|██▍       | 12/50 [00:09<00:08,  4.63it/s]\u001b[92m17:05:34 - LiteLLM:WARNING\u001b[0m: model_param_helper.py:147 - Error getting transcription kwargs cannot import name 'TranscriptionCreateParamsNonStreaming' from 'openai.types.audio.transcription_create_params' (/usr/local/lib/python3.11/dist-packages/openai/types/audio/transcription_create_params.py)\n",
            "WARNING:LiteLLM:Error getting transcription kwargs cannot import name 'TranscriptionCreateParamsNonStreaming' from 'openai.types.audio.transcription_create_params' (/usr/local/lib/python3.11/dist-packages/openai/types/audio/transcription_create_params.py)\n",
            "\u001b[92m17:05:34 - LiteLLM:WARNING\u001b[0m: model_param_helper.py:147 - Error getting transcription kwargs cannot import name 'TranscriptionCreateParamsNonStreaming' from 'openai.types.audio.transcription_create_params' (/usr/local/lib/python3.11/dist-packages/openai/types/audio/transcription_create_params.py)\n",
            "WARNING:LiteLLM:Error getting transcription kwargs cannot import name 'TranscriptionCreateParamsNonStreaming' from 'openai.types.audio.transcription_create_params' (/usr/local/lib/python3.11/dist-packages/openai/types/audio/transcription_create_params.py)\n",
            "\u001b[92m17:05:34 - LiteLLM:WARNING\u001b[0m: model_param_helper.py:147 - Error getting transcription kwargs cannot import name 'TranscriptionCreateParamsNonStreaming' from 'openai.types.audio.transcription_create_params' (/usr/local/lib/python3.11/dist-packages/openai/types/audio/transcription_create_params.py)\n",
            "WARNING:LiteLLM:Error getting transcription kwargs cannot import name 'TranscriptionCreateParamsNonStreaming' from 'openai.types.audio.transcription_create_params' (/usr/local/lib/python3.11/dist-packages/openai/types/audio/transcription_create_params.py)\n",
            "\u001b[92m17:05:34 - LiteLLM:WARNING\u001b[0m: model_param_helper.py:147 - Error getting transcription kwargs cannot import name 'TranscriptionCreateParamsNonStreaming' from 'openai.types.audio.transcription_create_params' (/usr/local/lib/python3.11/dist-packages/openai/types/audio/transcription_create_params.py)\n",
            "WARNING:LiteLLM:Error getting transcription kwargs cannot import name 'TranscriptionCreateParamsNonStreaming' from 'openai.types.audio.transcription_create_params' (/usr/local/lib/python3.11/dist-packages/openai/types/audio/transcription_create_params.py)\n",
            "Evaluation:  28%|██▊       | 14/50 [00:09<00:07,  4.98it/s]\u001b[92m17:05:34 - LiteLLM:WARNING\u001b[0m: model_param_helper.py:147 - Error getting transcription kwargs cannot import name 'TranscriptionCreateParamsNonStreaming' from 'openai.types.audio.transcription_create_params' (/usr/local/lib/python3.11/dist-packages/openai/types/audio/transcription_create_params.py)\n",
            "WARNING:LiteLLM:Error getting transcription kwargs cannot import name 'TranscriptionCreateParamsNonStreaming' from 'openai.types.audio.transcription_create_params' (/usr/local/lib/python3.11/dist-packages/openai/types/audio/transcription_create_params.py)\n",
            "\u001b[92m17:05:34 - LiteLLM:WARNING\u001b[0m: model_param_helper.py:147 - Error getting transcription kwargs cannot import name 'TranscriptionCreateParamsNonStreaming' from 'openai.types.audio.transcription_create_params' (/usr/local/lib/python3.11/dist-packages/openai/types/audio/transcription_create_params.py)\n",
            "WARNING:LiteLLM:Error getting transcription kwargs cannot import name 'TranscriptionCreateParamsNonStreaming' from 'openai.types.audio.transcription_create_params' (/usr/local/lib/python3.11/dist-packages/openai/types/audio/transcription_create_params.py)\n",
            "Evaluation:  30%|███       | 15/50 [00:10<00:07,  4.55it/s]\u001b[92m17:05:34 - LiteLLM:WARNING\u001b[0m: model_param_helper.py:147 - Error getting transcription kwargs cannot import name 'TranscriptionCreateParamsNonStreaming' from 'openai.types.audio.transcription_create_params' (/usr/local/lib/python3.11/dist-packages/openai/types/audio/transcription_create_params.py)\n",
            "WARNING:LiteLLM:Error getting transcription kwargs cannot import name 'TranscriptionCreateParamsNonStreaming' from 'openai.types.audio.transcription_create_params' (/usr/local/lib/python3.11/dist-packages/openai/types/audio/transcription_create_params.py)\n",
            "\u001b[92m17:05:34 - LiteLLM:WARNING\u001b[0m: model_param_helper.py:147 - Error getting transcription kwargs cannot import name 'TranscriptionCreateParamsNonStreaming' from 'openai.types.audio.transcription_create_params' (/usr/local/lib/python3.11/dist-packages/openai/types/audio/transcription_create_params.py)\n",
            "WARNING:LiteLLM:Error getting transcription kwargs cannot import name 'TranscriptionCreateParamsNonStreaming' from 'openai.types.audio.transcription_create_params' (/usr/local/lib/python3.11/dist-packages/openai/types/audio/transcription_create_params.py)\n",
            "Evaluation:  32%|███▏      | 16/50 [00:10<00:06,  5.03it/s]\u001b[92m17:05:35 - LiteLLM:WARNING\u001b[0m: model_param_helper.py:147 - Error getting transcription kwargs cannot import name 'TranscriptionCreateParamsNonStreaming' from 'openai.types.audio.transcription_create_params' (/usr/local/lib/python3.11/dist-packages/openai/types/audio/transcription_create_params.py)\n",
            "WARNING:LiteLLM:Error getting transcription kwargs cannot import name 'TranscriptionCreateParamsNonStreaming' from 'openai.types.audio.transcription_create_params' (/usr/local/lib/python3.11/dist-packages/openai/types/audio/transcription_create_params.py)\n",
            "\u001b[92m17:05:35 - LiteLLM:WARNING\u001b[0m: model_param_helper.py:147 - Error getting transcription kwargs cannot import name 'TranscriptionCreateParamsNonStreaming' from 'openai.types.audio.transcription_create_params' (/usr/local/lib/python3.11/dist-packages/openai/types/audio/transcription_create_params.py)\n",
            "WARNING:LiteLLM:Error getting transcription kwargs cannot import name 'TranscriptionCreateParamsNonStreaming' from 'openai.types.audio.transcription_create_params' (/usr/local/lib/python3.11/dist-packages/openai/types/audio/transcription_create_params.py)\n",
            "Evaluation:  34%|███▍      | 17/50 [00:10<00:06,  4.72it/s]\u001b[92m17:05:35 - LiteLLM:WARNING\u001b[0m: model_param_helper.py:147 - Error getting transcription kwargs cannot import name 'TranscriptionCreateParamsNonStreaming' from 'openai.types.audio.transcription_create_params' (/usr/local/lib/python3.11/dist-packages/openai/types/audio/transcription_create_params.py)\n",
            "WARNING:LiteLLM:Error getting transcription kwargs cannot import name 'TranscriptionCreateParamsNonStreaming' from 'openai.types.audio.transcription_create_params' (/usr/local/lib/python3.11/dist-packages/openai/types/audio/transcription_create_params.py)\n",
            "\u001b[92m17:05:35 - LiteLLM:WARNING\u001b[0m: model_param_helper.py:147 - Error getting transcription kwargs cannot import name 'TranscriptionCreateParamsNonStreaming' from 'openai.types.audio.transcription_create_params' (/usr/local/lib/python3.11/dist-packages/openai/types/audio/transcription_create_params.py)\n",
            "WARNING:LiteLLM:Error getting transcription kwargs cannot import name 'TranscriptionCreateParamsNonStreaming' from 'openai.types.audio.transcription_create_params' (/usr/local/lib/python3.11/dist-packages/openai/types/audio/transcription_create_params.py)\n",
            "Evaluation:  36%|███▌      | 18/50 [00:10<00:05,  5.43it/s]\u001b[92m17:05:35 - LiteLLM:WARNING\u001b[0m: model_param_helper.py:147 - Error getting transcription kwargs cannot import name 'TranscriptionCreateParamsNonStreaming' from 'openai.types.audio.transcription_create_params' (/usr/local/lib/python3.11/dist-packages/openai/types/audio/transcription_create_params.py)\n",
            "WARNING:LiteLLM:Error getting transcription kwargs cannot import name 'TranscriptionCreateParamsNonStreaming' from 'openai.types.audio.transcription_create_params' (/usr/local/lib/python3.11/dist-packages/openai/types/audio/transcription_create_params.py)\n",
            "\u001b[92m17:05:35 - LiteLLM:WARNING\u001b[0m: model_param_helper.py:147 - Error getting transcription kwargs cannot import name 'TranscriptionCreateParamsNonStreaming' from 'openai.types.audio.transcription_create_params' (/usr/local/lib/python3.11/dist-packages/openai/types/audio/transcription_create_params.py)\n",
            "WARNING:LiteLLM:Error getting transcription kwargs cannot import name 'TranscriptionCreateParamsNonStreaming' from 'openai.types.audio.transcription_create_params' (/usr/local/lib/python3.11/dist-packages/openai/types/audio/transcription_create_params.py)\n",
            "Evaluation:  38%|███▊      | 19/50 [00:11<00:06,  4.73it/s]\u001b[92m17:05:36 - LiteLLM:WARNING\u001b[0m: model_param_helper.py:147 - Error getting transcription kwargs cannot import name 'TranscriptionCreateParamsNonStreaming' from 'openai.types.audio.transcription_create_params' (/usr/local/lib/python3.11/dist-packages/openai/types/audio/transcription_create_params.py)\n",
            "WARNING:LiteLLM:Error getting transcription kwargs cannot import name 'TranscriptionCreateParamsNonStreaming' from 'openai.types.audio.transcription_create_params' (/usr/local/lib/python3.11/dist-packages/openai/types/audio/transcription_create_params.py)\n",
            "\u001b[92m17:05:36 - LiteLLM:WARNING\u001b[0m: model_param_helper.py:147 - Error getting transcription kwargs cannot import name 'TranscriptionCreateParamsNonStreaming' from 'openai.types.audio.transcription_create_params' (/usr/local/lib/python3.11/dist-packages/openai/types/audio/transcription_create_params.py)\n",
            "WARNING:LiteLLM:Error getting transcription kwargs cannot import name 'TranscriptionCreateParamsNonStreaming' from 'openai.types.audio.transcription_create_params' (/usr/local/lib/python3.11/dist-packages/openai/types/audio/transcription_create_params.py)\n",
            "\u001b[92m17:05:36 - LiteLLM:WARNING\u001b[0m: model_param_helper.py:147 - Error getting transcription kwargs cannot import name 'TranscriptionCreateParamsNonStreaming' from 'openai.types.audio.transcription_create_params' (/usr/local/lib/python3.11/dist-packages/openai/types/audio/transcription_create_params.py)\n",
            "WARNING:LiteLLM:Error getting transcription kwargs cannot import name 'TranscriptionCreateParamsNonStreaming' from 'openai.types.audio.transcription_create_params' (/usr/local/lib/python3.11/dist-packages/openai/types/audio/transcription_create_params.py)\n",
            "\u001b[92m17:05:36 - LiteLLM:WARNING\u001b[0m: model_param_helper.py:147 - Error getting transcription kwargs cannot import name 'TranscriptionCreateParamsNonStreaming' from 'openai.types.audio.transcription_create_params' (/usr/local/lib/python3.11/dist-packages/openai/types/audio/transcription_create_params.py)\n",
            "WARNING:LiteLLM:Error getting transcription kwargs cannot import name 'TranscriptionCreateParamsNonStreaming' from 'openai.types.audio.transcription_create_params' (/usr/local/lib/python3.11/dist-packages/openai/types/audio/transcription_create_params.py)\n",
            "Evaluation:  40%|████      | 20/50 [00:11<00:07,  3.93it/s]\u001b[92m17:05:36 - LiteLLM:WARNING\u001b[0m: model_param_helper.py:147 - Error getting transcription kwargs cannot import name 'TranscriptionCreateParamsNonStreaming' from 'openai.types.audio.transcription_create_params' (/usr/local/lib/python3.11/dist-packages/openai/types/audio/transcription_create_params.py)\n",
            "WARNING:LiteLLM:Error getting transcription kwargs cannot import name 'TranscriptionCreateParamsNonStreaming' from 'openai.types.audio.transcription_create_params' (/usr/local/lib/python3.11/dist-packages/openai/types/audio/transcription_create_params.py)\n",
            "\u001b[92m17:05:36 - LiteLLM:WARNING\u001b[0m: model_param_helper.py:147 - Error getting transcription kwargs cannot import name 'TranscriptionCreateParamsNonStreaming' from 'openai.types.audio.transcription_create_params' (/usr/local/lib/python3.11/dist-packages/openai/types/audio/transcription_create_params.py)\n",
            "WARNING:LiteLLM:Error getting transcription kwargs cannot import name 'TranscriptionCreateParamsNonStreaming' from 'openai.types.audio.transcription_create_params' (/usr/local/lib/python3.11/dist-packages/openai/types/audio/transcription_create_params.py)\n",
            "Evaluation:  44%|████▍     | 22/50 [00:11<00:04,  5.79it/s]\u001b[92m17:05:36 - LiteLLM:WARNING\u001b[0m: model_param_helper.py:147 - Error getting transcription kwargs cannot import name 'TranscriptionCreateParamsNonStreaming' from 'openai.types.audio.transcription_create_params' (/usr/local/lib/python3.11/dist-packages/openai/types/audio/transcription_create_params.py)\n",
            "WARNING:LiteLLM:Error getting transcription kwargs cannot import name 'TranscriptionCreateParamsNonStreaming' from 'openai.types.audio.transcription_create_params' (/usr/local/lib/python3.11/dist-packages/openai/types/audio/transcription_create_params.py)\n",
            "\u001b[92m17:05:36 - LiteLLM:WARNING\u001b[0m: model_param_helper.py:147 - Error getting transcription kwargs cannot import name 'TranscriptionCreateParamsNonStreaming' from 'openai.types.audio.transcription_create_params' (/usr/local/lib/python3.11/dist-packages/openai/types/audio/transcription_create_params.py)\n",
            "WARNING:LiteLLM:Error getting transcription kwargs cannot import name 'TranscriptionCreateParamsNonStreaming' from 'openai.types.audio.transcription_create_params' (/usr/local/lib/python3.11/dist-packages/openai/types/audio/transcription_create_params.py)\n",
            "Evaluation:  46%|████▌     | 23/50 [00:11<00:04,  5.79it/s]\u001b[92m17:05:36 - LiteLLM:WARNING\u001b[0m: model_param_helper.py:147 - Error getting transcription kwargs cannot import name 'TranscriptionCreateParamsNonStreaming' from 'openai.types.audio.transcription_create_params' (/usr/local/lib/python3.11/dist-packages/openai/types/audio/transcription_create_params.py)\n",
            "WARNING:LiteLLM:Error getting transcription kwargs cannot import name 'TranscriptionCreateParamsNonStreaming' from 'openai.types.audio.transcription_create_params' (/usr/local/lib/python3.11/dist-packages/openai/types/audio/transcription_create_params.py)\n",
            "\u001b[92m17:05:36 - LiteLLM:WARNING\u001b[0m: model_param_helper.py:147 - Error getting transcription kwargs cannot import name 'TranscriptionCreateParamsNonStreaming' from 'openai.types.audio.transcription_create_params' (/usr/local/lib/python3.11/dist-packages/openai/types/audio/transcription_create_params.py)\n",
            "WARNING:LiteLLM:Error getting transcription kwargs cannot import name 'TranscriptionCreateParamsNonStreaming' from 'openai.types.audio.transcription_create_params' (/usr/local/lib/python3.11/dist-packages/openai/types/audio/transcription_create_params.py)\n",
            "\u001b[92m17:05:36 - LiteLLM:WARNING\u001b[0m: model_param_helper.py:147 - Error getting transcription kwargs cannot import name 'TranscriptionCreateParamsNonStreaming' from 'openai.types.audio.transcription_create_params' (/usr/local/lib/python3.11/dist-packages/openai/types/audio/transcription_create_params.py)\n",
            "Evaluation:  48%|████▊     | 24/50 [00:11<00:04,  6.23it/s]WARNING:LiteLLM:Error getting transcription kwargs cannot import name 'TranscriptionCreateParamsNonStreaming' from 'openai.types.audio.transcription_create_params' (/usr/local/lib/python3.11/dist-packages/openai/types/audio/transcription_create_params.py)\n",
            "\u001b[92m17:05:36 - LiteLLM:WARNING\u001b[0m: model_param_helper.py:147 - Error getting transcription kwargs cannot import name 'TranscriptionCreateParamsNonStreaming' from 'openai.types.audio.transcription_create_params' (/usr/local/lib/python3.11/dist-packages/openai/types/audio/transcription_create_params.py)\n",
            "WARNING:LiteLLM:Error getting transcription kwargs cannot import name 'TranscriptionCreateParamsNonStreaming' from 'openai.types.audio.transcription_create_params' (/usr/local/lib/python3.11/dist-packages/openai/types/audio/transcription_create_params.py)\n",
            "\u001b[92m17:05:36 - LiteLLM:WARNING\u001b[0m: model_param_helper.py:147 - Error getting transcription kwargs cannot import name 'TranscriptionCreateParamsNonStreaming' from 'openai.types.audio.transcription_create_params' (/usr/local/lib/python3.11/dist-packages/openai/types/audio/transcription_create_params.py)\n",
            "WARNING:LiteLLM:Error getting transcription kwargs cannot import name 'TranscriptionCreateParamsNonStreaming' from 'openai.types.audio.transcription_create_params' (/usr/local/lib/python3.11/dist-packages/openai/types/audio/transcription_create_params.py)\n",
            "\u001b[92m17:05:36 - LiteLLM:WARNING\u001b[0m: model_param_helper.py:147 - Error getting transcription kwargs cannot import name 'TranscriptionCreateParamsNonStreaming' from 'openai.types.audio.transcription_create_params' (/usr/local/lib/python3.11/dist-packages/openai/types/audio/transcription_create_params.py)\n",
            "WARNING:LiteLLM:Error getting transcription kwargs cannot import name 'TranscriptionCreateParamsNonStreaming' from 'openai.types.audio.transcription_create_params' (/usr/local/lib/python3.11/dist-packages/openai/types/audio/transcription_create_params.py)\n",
            "\u001b[92m17:05:36 - LiteLLM:WARNING\u001b[0m: model_param_helper.py:147 - Error getting transcription kwargs cannot import name 'TranscriptionCreateParamsNonStreaming' from 'openai.types.audio.transcription_create_params' (/usr/local/lib/python3.11/dist-packages/openai/types/audio/transcription_create_params.py)\n",
            "WARNING:LiteLLM:Error getting transcription kwargs cannot import name 'TranscriptionCreateParamsNonStreaming' from 'openai.types.audio.transcription_create_params' (/usr/local/lib/python3.11/dist-packages/openai/types/audio/transcription_create_params.py)\n",
            "\u001b[92m17:05:36 - LiteLLM:WARNING\u001b[0m: model_param_helper.py:147 - Error getting transcription kwargs cannot import name 'TranscriptionCreateParamsNonStreaming' from 'openai.types.audio.transcription_create_params' (/usr/local/lib/python3.11/dist-packages/openai/types/audio/transcription_create_params.py)\n",
            "WARNING:LiteLLM:Error getting transcription kwargs cannot import name 'TranscriptionCreateParamsNonStreaming' from 'openai.types.audio.transcription_create_params' (/usr/local/lib/python3.11/dist-packages/openai/types/audio/transcription_create_params.py)\n",
            "Evaluation:  54%|█████▍    | 27/50 [00:12<00:02,  8.55it/s]\u001b[92m17:05:37 - LiteLLM:WARNING\u001b[0m: model_param_helper.py:147 - Error getting transcription kwargs cannot import name 'TranscriptionCreateParamsNonStreaming' from 'openai.types.audio.transcription_create_params' (/usr/local/lib/python3.11/dist-packages/openai/types/audio/transcription_create_params.py)\n",
            "WARNING:LiteLLM:Error getting transcription kwargs cannot import name 'TranscriptionCreateParamsNonStreaming' from 'openai.types.audio.transcription_create_params' (/usr/local/lib/python3.11/dist-packages/openai/types/audio/transcription_create_params.py)\n",
            "\u001b[92m17:05:37 - LiteLLM:WARNING\u001b[0m: model_param_helper.py:147 - Error getting transcription kwargs cannot import name 'TranscriptionCreateParamsNonStreaming' from 'openai.types.audio.transcription_create_params' (/usr/local/lib/python3.11/dist-packages/openai/types/audio/transcription_create_params.py)\n",
            "WARNING:LiteLLM:Error getting transcription kwargs cannot import name 'TranscriptionCreateParamsNonStreaming' from 'openai.types.audio.transcription_create_params' (/usr/local/lib/python3.11/dist-packages/openai/types/audio/transcription_create_params.py)\n",
            "Evaluation:  56%|█████▌    | 28/50 [00:12<00:03,  6.30it/s]\u001b[92m17:05:37 - LiteLLM:WARNING\u001b[0m: model_param_helper.py:147 - Error getting transcription kwargs cannot import name 'TranscriptionCreateParamsNonStreaming' from 'openai.types.audio.transcription_create_params' (/usr/local/lib/python3.11/dist-packages/openai/types/audio/transcription_create_params.py)\n",
            "WARNING:LiteLLM:Error getting transcription kwargs cannot import name 'TranscriptionCreateParamsNonStreaming' from 'openai.types.audio.transcription_create_params' (/usr/local/lib/python3.11/dist-packages/openai/types/audio/transcription_create_params.py)\n",
            "\u001b[92m17:05:37 - LiteLLM:WARNING\u001b[0m: model_param_helper.py:147 - Error getting transcription kwargs cannot import name 'TranscriptionCreateParamsNonStreaming' from 'openai.types.audio.transcription_create_params' (/usr/local/lib/python3.11/dist-packages/openai/types/audio/transcription_create_params.py)\n",
            "WARNING:LiteLLM:Error getting transcription kwargs cannot import name 'TranscriptionCreateParamsNonStreaming' from 'openai.types.audio.transcription_create_params' (/usr/local/lib/python3.11/dist-packages/openai/types/audio/transcription_create_params.py)\n",
            "Evaluation:  58%|█████▊    | 29/50 [00:12<00:03,  6.56it/s]\u001b[92m17:05:37 - LiteLLM:WARNING\u001b[0m: model_param_helper.py:147 - Error getting transcription kwargs cannot import name 'TranscriptionCreateParamsNonStreaming' from 'openai.types.audio.transcription_create_params' (/usr/local/lib/python3.11/dist-packages/openai/types/audio/transcription_create_params.py)\n",
            "WARNING:LiteLLM:Error getting transcription kwargs cannot import name 'TranscriptionCreateParamsNonStreaming' from 'openai.types.audio.transcription_create_params' (/usr/local/lib/python3.11/dist-packages/openai/types/audio/transcription_create_params.py)\n",
            "\u001b[92m17:05:37 - LiteLLM:WARNING\u001b[0m: model_param_helper.py:147 - Error getting transcription kwargs cannot import name 'TranscriptionCreateParamsNonStreaming' from 'openai.types.audio.transcription_create_params' (/usr/local/lib/python3.11/dist-packages/openai/types/audio/transcription_create_params.py)\n",
            "WARNING:LiteLLM:Error getting transcription kwargs cannot import name 'TranscriptionCreateParamsNonStreaming' from 'openai.types.audio.transcription_create_params' (/usr/local/lib/python3.11/dist-packages/openai/types/audio/transcription_create_params.py)\n",
            "\u001b[92m17:05:37 - LiteLLM:WARNING\u001b[0m: model_param_helper.py:147 - Error getting transcription kwargs cannot import name 'TranscriptionCreateParamsNonStreaming' from 'openai.types.audio.transcription_create_params' (/usr/local/lib/python3.11/dist-packages/openai/types/audio/transcription_create_params.py)\n",
            "WARNING:LiteLLM:Error getting transcription kwargs cannot import name 'TranscriptionCreateParamsNonStreaming' from 'openai.types.audio.transcription_create_params' (/usr/local/lib/python3.11/dist-packages/openai/types/audio/transcription_create_params.py)\n",
            "\u001b[92m17:05:37 - LiteLLM:WARNING\u001b[0m: model_param_helper.py:147 - Error getting transcription kwargs cannot import name 'TranscriptionCreateParamsNonStreaming' from 'openai.types.audio.transcription_create_params' (/usr/local/lib/python3.11/dist-packages/openai/types/audio/transcription_create_params.py)\n",
            "WARNING:LiteLLM:Error getting transcription kwargs cannot import name 'TranscriptionCreateParamsNonStreaming' from 'openai.types.audio.transcription_create_params' (/usr/local/lib/python3.11/dist-packages/openai/types/audio/transcription_create_params.py)\n",
            "Evaluation:  62%|██████▏   | 31/50 [00:12<00:02,  6.70it/s]\u001b[92m17:05:37 - LiteLLM:WARNING\u001b[0m: model_param_helper.py:147 - Error getting transcription kwargs cannot import name 'TranscriptionCreateParamsNonStreaming' from 'openai.types.audio.transcription_create_params' (/usr/local/lib/python3.11/dist-packages/openai/types/audio/transcription_create_params.py)\n",
            "WARNING:LiteLLM:Error getting transcription kwargs cannot import name 'TranscriptionCreateParamsNonStreaming' from 'openai.types.audio.transcription_create_params' (/usr/local/lib/python3.11/dist-packages/openai/types/audio/transcription_create_params.py)\n",
            "\u001b[92m17:05:37 - LiteLLM:WARNING\u001b[0m: model_param_helper.py:147 - Error getting transcription kwargs cannot import name 'TranscriptionCreateParamsNonStreaming' from 'openai.types.audio.transcription_create_params' (/usr/local/lib/python3.11/dist-packages/openai/types/audio/transcription_create_params.py)\n",
            "WARNING:LiteLLM:Error getting transcription kwargs cannot import name 'TranscriptionCreateParamsNonStreaming' from 'openai.types.audio.transcription_create_params' (/usr/local/lib/python3.11/dist-packages/openai/types/audio/transcription_create_params.py)\n",
            "Evaluation:  64%|██████▍   | 32/50 [00:12<00:02,  6.76it/s]\u001b[92m17:05:37 - LiteLLM:WARNING\u001b[0m: model_param_helper.py:147 - Error getting transcription kwargs cannot import name 'TranscriptionCreateParamsNonStreaming' from 'openai.types.audio.transcription_create_params' (/usr/local/lib/python3.11/dist-packages/openai/types/audio/transcription_create_params.py)\n",
            "WARNING:LiteLLM:Error getting transcription kwargs cannot import name 'TranscriptionCreateParamsNonStreaming' from 'openai.types.audio.transcription_create_params' (/usr/local/lib/python3.11/dist-packages/openai/types/audio/transcription_create_params.py)\n",
            "\u001b[92m17:05:37 - LiteLLM:WARNING\u001b[0m: model_param_helper.py:147 - Error getting transcription kwargs cannot import name 'TranscriptionCreateParamsNonStreaming' from 'openai.types.audio.transcription_create_params' (/usr/local/lib/python3.11/dist-packages/openai/types/audio/transcription_create_params.py)\n",
            "WARNING:LiteLLM:Error getting transcription kwargs cannot import name 'TranscriptionCreateParamsNonStreaming' from 'openai.types.audio.transcription_create_params' (/usr/local/lib/python3.11/dist-packages/openai/types/audio/transcription_create_params.py)\n",
            "\u001b[92m17:05:37 - LiteLLM:WARNING\u001b[0m: model_param_helper.py:147 - Error getting transcription kwargs cannot import name 'TranscriptionCreateParamsNonStreaming' from 'openai.types.audio.transcription_create_params' (/usr/local/lib/python3.11/dist-packages/openai/types/audio/transcription_create_params.py)\n",
            "WARNING:LiteLLM:Error getting transcription kwargs cannot import name 'TranscriptionCreateParamsNonStreaming' from 'openai.types.audio.transcription_create_params' (/usr/local/lib/python3.11/dist-packages/openai/types/audio/transcription_create_params.py)\n",
            "\u001b[92m17:05:37 - LiteLLM:WARNING\u001b[0m: model_param_helper.py:147 - Error getting transcription kwargs cannot import name 'TranscriptionCreateParamsNonStreaming' from 'openai.types.audio.transcription_create_params' (/usr/local/lib/python3.11/dist-packages/openai/types/audio/transcription_create_params.py)\n",
            "WARNING:LiteLLM:Error getting transcription kwargs cannot import name 'TranscriptionCreateParamsNonStreaming' from 'openai.types.audio.transcription_create_params' (/usr/local/lib/python3.11/dist-packages/openai/types/audio/transcription_create_params.py)\n",
            "Evaluation:  66%|██████▌   | 33/50 [00:13<00:03,  5.33it/s]\u001b[92m17:05:38 - LiteLLM:WARNING\u001b[0m: model_param_helper.py:147 - Error getting transcription kwargs cannot import name 'TranscriptionCreateParamsNonStreaming' from 'openai.types.audio.transcription_create_params' (/usr/local/lib/python3.11/dist-packages/openai/types/audio/transcription_create_params.py)\n",
            "WARNING:LiteLLM:Error getting transcription kwargs cannot import name 'TranscriptionCreateParamsNonStreaming' from 'openai.types.audio.transcription_create_params' (/usr/local/lib/python3.11/dist-packages/openai/types/audio/transcription_create_params.py)\n",
            "\u001b[92m17:05:38 - LiteLLM:WARNING\u001b[0m: model_param_helper.py:147 - Error getting transcription kwargs cannot import name 'TranscriptionCreateParamsNonStreaming' from 'openai.types.audio.transcription_create_params' (/usr/local/lib/python3.11/dist-packages/openai/types/audio/transcription_create_params.py)\n",
            "WARNING:LiteLLM:Error getting transcription kwargs cannot import name 'TranscriptionCreateParamsNonStreaming' from 'openai.types.audio.transcription_create_params' (/usr/local/lib/python3.11/dist-packages/openai/types/audio/transcription_create_params.py)\n",
            "Evaluation:  70%|███████   | 35/50 [00:13<00:02,  6.17it/s]\u001b[92m17:05:38 - LiteLLM:WARNING\u001b[0m: model_param_helper.py:147 - Error getting transcription kwargs cannot import name 'TranscriptionCreateParamsNonStreaming' from 'openai.types.audio.transcription_create_params' (/usr/local/lib/python3.11/dist-packages/openai/types/audio/transcription_create_params.py)\n",
            "WARNING:LiteLLM:Error getting transcription kwargs cannot import name 'TranscriptionCreateParamsNonStreaming' from 'openai.types.audio.transcription_create_params' (/usr/local/lib/python3.11/dist-packages/openai/types/audio/transcription_create_params.py)\n",
            "\u001b[92m17:05:38 - LiteLLM:WARNING\u001b[0m: model_param_helper.py:147 - Error getting transcription kwargs cannot import name 'TranscriptionCreateParamsNonStreaming' from 'openai.types.audio.transcription_create_params' (/usr/local/lib/python3.11/dist-packages/openai/types/audio/transcription_create_params.py)\n",
            "WARNING:LiteLLM:Error getting transcription kwargs cannot import name 'TranscriptionCreateParamsNonStreaming' from 'openai.types.audio.transcription_create_params' (/usr/local/lib/python3.11/dist-packages/openai/types/audio/transcription_create_params.py)\n",
            "Evaluation:  72%|███████▏  | 36/50 [00:13<00:02,  5.76it/s]\u001b[92m17:05:39 - LiteLLM:WARNING\u001b[0m: model_param_helper.py:147 - Error getting transcription kwargs cannot import name 'TranscriptionCreateParamsNonStreaming' from 'openai.types.audio.transcription_create_params' (/usr/local/lib/python3.11/dist-packages/openai/types/audio/transcription_create_params.py)\n",
            "WARNING:LiteLLM:Error getting transcription kwargs cannot import name 'TranscriptionCreateParamsNonStreaming' from 'openai.types.audio.transcription_create_params' (/usr/local/lib/python3.11/dist-packages/openai/types/audio/transcription_create_params.py)\n",
            "\u001b[92m17:05:39 - LiteLLM:WARNING\u001b[0m: model_param_helper.py:147 - Error getting transcription kwargs cannot import name 'TranscriptionCreateParamsNonStreaming' from 'openai.types.audio.transcription_create_params' (/usr/local/lib/python3.11/dist-packages/openai/types/audio/transcription_create_params.py)\n",
            "WARNING:LiteLLM:Error getting transcription kwargs cannot import name 'TranscriptionCreateParamsNonStreaming' from 'openai.types.audio.transcription_create_params' (/usr/local/lib/python3.11/dist-packages/openai/types/audio/transcription_create_params.py)\n",
            "Evaluation:  74%|███████▍  | 37/50 [00:14<00:03,  3.46it/s]\u001b[92m17:05:39 - LiteLLM:WARNING\u001b[0m: model_param_helper.py:147 - Error getting transcription kwargs cannot import name 'TranscriptionCreateParamsNonStreaming' from 'openai.types.audio.transcription_create_params' (/usr/local/lib/python3.11/dist-packages/openai/types/audio/transcription_create_params.py)\n",
            "WARNING:LiteLLM:Error getting transcription kwargs cannot import name 'TranscriptionCreateParamsNonStreaming' from 'openai.types.audio.transcription_create_params' (/usr/local/lib/python3.11/dist-packages/openai/types/audio/transcription_create_params.py)\n",
            "\u001b[92m17:05:39 - LiteLLM:WARNING\u001b[0m: model_param_helper.py:147 - Error getting transcription kwargs cannot import name 'TranscriptionCreateParamsNonStreaming' from 'openai.types.audio.transcription_create_params' (/usr/local/lib/python3.11/dist-packages/openai/types/audio/transcription_create_params.py)\n",
            "WARNING:LiteLLM:Error getting transcription kwargs cannot import name 'TranscriptionCreateParamsNonStreaming' from 'openai.types.audio.transcription_create_params' (/usr/local/lib/python3.11/dist-packages/openai/types/audio/transcription_create_params.py)\n",
            "\u001b[92m17:05:39 - LiteLLM:WARNING\u001b[0m: model_param_helper.py:147 - Error getting transcription kwargs cannot import name 'TranscriptionCreateParamsNonStreaming' from 'openai.types.audio.transcription_create_params' (/usr/local/lib/python3.11/dist-packages/openai/types/audio/transcription_create_params.py)\n",
            "WARNING:LiteLLM:Error getting transcription kwargs cannot import name 'TranscriptionCreateParamsNonStreaming' from 'openai.types.audio.transcription_create_params' (/usr/local/lib/python3.11/dist-packages/openai/types/audio/transcription_create_params.py)\n",
            "\u001b[92m17:05:39 - LiteLLM:WARNING\u001b[0m: model_param_helper.py:147 - Error getting transcription kwargs cannot import name 'TranscriptionCreateParamsNonStreaming' from 'openai.types.audio.transcription_create_params' (/usr/local/lib/python3.11/dist-packages/openai/types/audio/transcription_create_params.py)\n",
            "WARNING:LiteLLM:Error getting transcription kwargs cannot import name 'TranscriptionCreateParamsNonStreaming' from 'openai.types.audio.transcription_create_params' (/usr/local/lib/python3.11/dist-packages/openai/types/audio/transcription_create_params.py)\n",
            "\u001b[92m17:05:39 - LiteLLM:WARNING\u001b[0m: model_param_helper.py:147 - Error getting transcription kwargs cannot import name 'TranscriptionCreateParamsNonStreaming' from 'openai.types.audio.transcription_create_params' (/usr/local/lib/python3.11/dist-packages/openai/types/audio/transcription_create_params.py)\n",
            "WARNING:LiteLLM:Error getting transcription kwargs cannot import name 'TranscriptionCreateParamsNonStreaming' from 'openai.types.audio.transcription_create_params' (/usr/local/lib/python3.11/dist-packages/openai/types/audio/transcription_create_params.py)\n",
            "Evaluation:  78%|███████▊  | 39/50 [00:14<00:02,  4.49it/s]\u001b[92m17:05:39 - LiteLLM:WARNING\u001b[0m: model_param_helper.py:147 - Error getting transcription kwargs cannot import name 'TranscriptionCreateParamsNonStreaming' from 'openai.types.audio.transcription_create_params' (/usr/local/lib/python3.11/dist-packages/openai/types/audio/transcription_create_params.py)\n",
            "WARNING:LiteLLM:Error getting transcription kwargs cannot import name 'TranscriptionCreateParamsNonStreaming' from 'openai.types.audio.transcription_create_params' (/usr/local/lib/python3.11/dist-packages/openai/types/audio/transcription_create_params.py)\n",
            "\u001b[92m17:05:39 - LiteLLM:WARNING\u001b[0m: model_param_helper.py:147 - Error getting transcription kwargs cannot import name 'TranscriptionCreateParamsNonStreaming' from 'openai.types.audio.transcription_create_params' (/usr/local/lib/python3.11/dist-packages/openai/types/audio/transcription_create_params.py)\n",
            "WARNING:LiteLLM:Error getting transcription kwargs cannot import name 'TranscriptionCreateParamsNonStreaming' from 'openai.types.audio.transcription_create_params' (/usr/local/lib/python3.11/dist-packages/openai/types/audio/transcription_create_params.py)\n",
            "\u001b[92m17:05:39 - LiteLLM:WARNING\u001b[0m: model_param_helper.py:147 - Error getting transcription kwargs cannot import name 'TranscriptionCreateParamsNonStreaming' from 'openai.types.audio.transcription_create_params' (/usr/local/lib/python3.11/dist-packages/openai/types/audio/transcription_create_params.py)\n",
            "WARNING:LiteLLM:Error getting transcription kwargs cannot import name 'TranscriptionCreateParamsNonStreaming' from 'openai.types.audio.transcription_create_params' (/usr/local/lib/python3.11/dist-packages/openai/types/audio/transcription_create_params.py)\n",
            "\u001b[92m17:05:39 - LiteLLM:WARNING\u001b[0m: model_param_helper.py:147 - Error getting transcription kwargs cannot import name 'TranscriptionCreateParamsNonStreaming' from 'openai.types.audio.transcription_create_params' (/usr/local/lib/python3.11/dist-packages/openai/types/audio/transcription_create_params.py)\n",
            "WARNING:LiteLLM:Error getting transcription kwargs cannot import name 'TranscriptionCreateParamsNonStreaming' from 'openai.types.audio.transcription_create_params' (/usr/local/lib/python3.11/dist-packages/openai/types/audio/transcription_create_params.py)\n",
            "\u001b[92m17:05:39 - LiteLLM:WARNING\u001b[0m: model_param_helper.py:147 - Error getting transcription kwargs cannot import name 'TranscriptionCreateParamsNonStreaming' from 'openai.types.audio.transcription_create_params' (/usr/local/lib/python3.11/dist-packages/openai/types/audio/transcription_create_params.py)\n",
            "WARNING:LiteLLM:Error getting transcription kwargs cannot import name 'TranscriptionCreateParamsNonStreaming' from 'openai.types.audio.transcription_create_params' (/usr/local/lib/python3.11/dist-packages/openai/types/audio/transcription_create_params.py)\n",
            "Evaluation:  84%|████████▍ | 42/50 [00:14<00:01,  6.74it/s]\u001b[92m17:05:39 - LiteLLM:WARNING\u001b[0m: model_param_helper.py:147 - Error getting transcription kwargs cannot import name 'TranscriptionCreateParamsNonStreaming' from 'openai.types.audio.transcription_create_params' (/usr/local/lib/python3.11/dist-packages/openai/types/audio/transcription_create_params.py)\n",
            "WARNING:LiteLLM:Error getting transcription kwargs cannot import name 'TranscriptionCreateParamsNonStreaming' from 'openai.types.audio.transcription_create_params' (/usr/local/lib/python3.11/dist-packages/openai/types/audio/transcription_create_params.py)\n",
            "\u001b[92m17:05:39 - LiteLLM:WARNING\u001b[0m: model_param_helper.py:147 - Error getting transcription kwargs cannot import name 'TranscriptionCreateParamsNonStreaming' from 'openai.types.audio.transcription_create_params' (/usr/local/lib/python3.11/dist-packages/openai/types/audio/transcription_create_params.py)\n",
            "\u001b[92m17:05:39 - LiteLLM:WARNING\u001b[0m: model_param_helper.py:147 - Error getting transcription kwargs cannot import name 'TranscriptionCreateParamsNonStreaming' from 'openai.types.audio.transcription_create_params' (/usr/local/lib/python3.11/dist-packages/openai/types/audio/transcription_create_params.py)\n",
            "WARNING:LiteLLM:Error getting transcription kwargs cannot import name 'TranscriptionCreateParamsNonStreaming' from 'openai.types.audio.transcription_create_params' (/usr/local/lib/python3.11/dist-packages/openai/types/audio/transcription_create_params.py)\n",
            "\u001b[92m17:05:39 - LiteLLM:WARNING\u001b[0m: model_param_helper.py:147 - Error getting transcription kwargs cannot import name 'TranscriptionCreateParamsNonStreaming' from 'openai.types.audio.transcription_create_params' (/usr/local/lib/python3.11/dist-packages/openai/types/audio/transcription_create_params.py)\n",
            "WARNING:LiteLLM:Error getting transcription kwargs cannot import name 'TranscriptionCreateParamsNonStreaming' from 'openai.types.audio.transcription_create_params' (/usr/local/lib/python3.11/dist-packages/openai/types/audio/transcription_create_params.py)\n",
            "WARNING:LiteLLM:Error getting transcription kwargs cannot import name 'TranscriptionCreateParamsNonStreaming' from 'openai.types.audio.transcription_create_params' (/usr/local/lib/python3.11/dist-packages/openai/types/audio/transcription_create_params.py)\n",
            "Evaluation:  86%|████████▌ | 43/50 [00:15<00:01,  6.07it/s]\u001b[92m17:05:39 - LiteLLM:WARNING\u001b[0m: model_param_helper.py:147 - Error getting transcription kwargs cannot import name 'TranscriptionCreateParamsNonStreaming' from 'openai.types.audio.transcription_create_params' (/usr/local/lib/python3.11/dist-packages/openai/types/audio/transcription_create_params.py)\n",
            "WARNING:LiteLLM:Error getting transcription kwargs cannot import name 'TranscriptionCreateParamsNonStreaming' from 'openai.types.audio.transcription_create_params' (/usr/local/lib/python3.11/dist-packages/openai/types/audio/transcription_create_params.py)\n",
            "\u001b[92m17:05:39 - LiteLLM:WARNING\u001b[0m: model_param_helper.py:147 - Error getting transcription kwargs cannot import name 'TranscriptionCreateParamsNonStreaming' from 'openai.types.audio.transcription_create_params' (/usr/local/lib/python3.11/dist-packages/openai/types/audio/transcription_create_params.py)\n",
            "WARNING:LiteLLM:Error getting transcription kwargs cannot import name 'TranscriptionCreateParamsNonStreaming' from 'openai.types.audio.transcription_create_params' (/usr/local/lib/python3.11/dist-packages/openai/types/audio/transcription_create_params.py)\n",
            "\u001b[92m17:05:39 - LiteLLM:WARNING\u001b[0m: model_param_helper.py:147 - Error getting transcription kwargs cannot import name 'TranscriptionCreateParamsNonStreaming' from 'openai.types.audio.transcription_create_params' (/usr/local/lib/python3.11/dist-packages/openai/types/audio/transcription_create_params.py)\n",
            "WARNING:LiteLLM:Error getting transcription kwargs cannot import name 'TranscriptionCreateParamsNonStreaming' from 'openai.types.audio.transcription_create_params' (/usr/local/lib/python3.11/dist-packages/openai/types/audio/transcription_create_params.py)\n",
            "\u001b[92m17:05:39 - LiteLLM:WARNING\u001b[0m: model_param_helper.py:147 - Error getting transcription kwargs cannot import name 'TranscriptionCreateParamsNonStreaming' from 'openai.types.audio.transcription_create_params' (/usr/local/lib/python3.11/dist-packages/openai/types/audio/transcription_create_params.py)\n",
            "\u001b[92m17:05:39 - LiteLLM:WARNING\u001b[0m: model_param_helper.py:147 - Error getting transcription kwargs cannot import name 'TranscriptionCreateParamsNonStreaming' from 'openai.types.audio.transcription_create_params' (/usr/local/lib/python3.11/dist-packages/openai/types/audio/transcription_create_params.py)\n",
            "WARNING:LiteLLM:Error getting transcription kwargs cannot import name 'TranscriptionCreateParamsNonStreaming' from 'openai.types.audio.transcription_create_params' (/usr/local/lib/python3.11/dist-packages/openai/types/audio/transcription_create_params.py)\n",
            "\u001b[92m17:05:39 - LiteLLM:WARNING\u001b[0m: model_param_helper.py:147 - Error getting transcription kwargs cannot import name 'TranscriptionCreateParamsNonStreaming' from 'openai.types.audio.transcription_create_params' (/usr/local/lib/python3.11/dist-packages/openai/types/audio/transcription_create_params.py)\n",
            "WARNING:LiteLLM:Error getting transcription kwargs cannot import name 'TranscriptionCreateParamsNonStreaming' from 'openai.types.audio.transcription_create_params' (/usr/local/lib/python3.11/dist-packages/openai/types/audio/transcription_create_params.py)\n",
            "WARNING:LiteLLM:Error getting transcription kwargs cannot import name 'TranscriptionCreateParamsNonStreaming' from 'openai.types.audio.transcription_create_params' (/usr/local/lib/python3.11/dist-packages/openai/types/audio/transcription_create_params.py)\n",
            "Evaluation:  92%|█████████▏| 46/50 [00:15<00:00,  8.25it/s]\u001b[92m17:05:40 - LiteLLM:WARNING\u001b[0m: model_param_helper.py:147 - Error getting transcription kwargs cannot import name 'TranscriptionCreateParamsNonStreaming' from 'openai.types.audio.transcription_create_params' (/usr/local/lib/python3.11/dist-packages/openai/types/audio/transcription_create_params.py)\n",
            "WARNING:LiteLLM:Error getting transcription kwargs cannot import name 'TranscriptionCreateParamsNonStreaming' from 'openai.types.audio.transcription_create_params' (/usr/local/lib/python3.11/dist-packages/openai/types/audio/transcription_create_params.py)\n",
            "\u001b[92m17:05:40 - LiteLLM:WARNING\u001b[0m: model_param_helper.py:147 - Error getting transcription kwargs cannot import name 'TranscriptionCreateParamsNonStreaming' from 'openai.types.audio.transcription_create_params' (/usr/local/lib/python3.11/dist-packages/openai/types/audio/transcription_create_params.py)\n",
            "WARNING:LiteLLM:Error getting transcription kwargs cannot import name 'TranscriptionCreateParamsNonStreaming' from 'openai.types.audio.transcription_create_params' (/usr/local/lib/python3.11/dist-packages/openai/types/audio/transcription_create_params.py)\n",
            "Evaluation:  96%|█████████▌| 48/50 [00:16<00:00,  4.90it/s]\u001b[92m17:05:40 - LiteLLM:WARNING\u001b[0m: model_param_helper.py:147 - Error getting transcription kwargs cannot import name 'TranscriptionCreateParamsNonStreaming' from 'openai.types.audio.transcription_create_params' (/usr/local/lib/python3.11/dist-packages/openai/types/audio/transcription_create_params.py)\n",
            "WARNING:LiteLLM:Error getting transcription kwargs cannot import name 'TranscriptionCreateParamsNonStreaming' from 'openai.types.audio.transcription_create_params' (/usr/local/lib/python3.11/dist-packages/openai/types/audio/transcription_create_params.py)\n",
            "\u001b[92m17:05:40 - LiteLLM:WARNING\u001b[0m: model_param_helper.py:147 - Error getting transcription kwargs cannot import name 'TranscriptionCreateParamsNonStreaming' from 'openai.types.audio.transcription_create_params' (/usr/local/lib/python3.11/dist-packages/openai/types/audio/transcription_create_params.py)\n",
            "WARNING:LiteLLM:Error getting transcription kwargs cannot import name 'TranscriptionCreateParamsNonStreaming' from 'openai.types.audio.transcription_create_params' (/usr/local/lib/python3.11/dist-packages/openai/types/audio/transcription_create_params.py)\n",
            "\u001b[92m17:05:40 - LiteLLM:WARNING\u001b[0m: model_param_helper.py:147 - Error getting transcription kwargs cannot import name 'TranscriptionCreateParamsNonStreaming' from 'openai.types.audio.transcription_create_params' (/usr/local/lib/python3.11/dist-packages/openai/types/audio/transcription_create_params.py)\n",
            "WARNING:LiteLLM:Error getting transcription kwargs cannot import name 'TranscriptionCreateParamsNonStreaming' from 'openai.types.audio.transcription_create_params' (/usr/local/lib/python3.11/dist-packages/openai/types/audio/transcription_create_params.py)\n",
            "\u001b[92m17:05:40 - LiteLLM:WARNING\u001b[0m: model_param_helper.py:147 - Error getting transcription kwargs cannot import name 'TranscriptionCreateParamsNonStreaming' from 'openai.types.audio.transcription_create_params' (/usr/local/lib/python3.11/dist-packages/openai/types/audio/transcription_create_params.py)\n",
            "WARNING:LiteLLM:Error getting transcription kwargs cannot import name 'TranscriptionCreateParamsNonStreaming' from 'openai.types.audio.transcription_create_params' (/usr/local/lib/python3.11/dist-packages/openai/types/audio/transcription_create_params.py)\n",
            "Evaluation: 100%|██████████| 50/50 [00:16<00:00,  3.09it/s]\n"
          ]
        },
        {
          "output_type": "display_data",
          "data": {
            "text/plain": [
              "╭─ HaluEval (50 samples) ───────────────────╮\n",
              "│                                           │\n",
              "│ \u001b[1mTotal time:       \u001b[0m 00:00:16               │\n",
              "│ \u001b[1mNumber of samples:\u001b[0m 50                     │\n",
              "│                                           │\n",
              "│ \u001b[1;32mCorrect hallucination score: 0.7800 (avg)\u001b[0m │\n",
              "│                                           │\n",
              "╰───────────────────────────────────────────╯\n"
            ],
            "text/html": [
              "<pre style=\"white-space:pre;overflow-x:auto;line-height:normal;font-family:Menlo,'DejaVu Sans Mono',consolas,'Courier New',monospace\">╭─ HaluEval (50 samples) ───────────────────╮\n",
              "│                                           │\n",
              "│ <span style=\"font-weight: bold\">Total time:       </span> 00:00:16               │\n",
              "│ <span style=\"font-weight: bold\">Number of samples:</span> 50                     │\n",
              "│                                           │\n",
              "│ <span style=\"color: #008000; text-decoration-color: #008000; font-weight: bold\">Correct hallucination score: 0.7800 (avg)</span> │\n",
              "│                                           │\n",
              "╰───────────────────────────────────────────╯\n",
              "</pre>\n"
            ]
          },
          "metadata": {}
        },
        {
          "output_type": "display_data",
          "data": {
            "text/plain": [
              "Uploading results to Opik \u001b[33m...\u001b[0m \n"
            ],
            "text/html": [
              "<pre style=\"white-space:pre;overflow-x:auto;line-height:normal;font-family:Menlo,'DejaVu Sans Mono',consolas,'Courier New',monospace\">Uploading results to Opik <span style=\"color: #808000; text-decoration-color: #808000\">...</span> \n",
              "</pre>\n"
            ]
          },
          "metadata": {}
        },
        {
          "output_type": "display_data",
          "data": {
            "text/plain": [
              "View the results \u001b]8;id=136074;https://www.comet.com/opik/api/v1/session/redirect/experiments/?experiment_id=0195c91d-bdc9-7cb2-ba12-e670426f95a4&dataset_id=0195c91d-6ef8-78ef-88d6-b03a2c4da163&path=aHR0cHM6Ly93d3cuY29tZXQuY29tL29waWsvYXBpLw==\u001b\\in your Opik dashboard\u001b]8;;\u001b\\.\n"
            ],
            "text/html": [
              "<pre style=\"white-space:pre;overflow-x:auto;line-height:normal;font-family:Menlo,'DejaVu Sans Mono',consolas,'Courier New',monospace\">View the results <a href=\"https://www.comet.com/opik/api/v1/session/redirect/experiments/?experiment_id=0195c91d-bdc9-7cb2-ba12-e670426f95a4&dataset_id=0195c91d-6ef8-78ef-88d6-b03a2c4da163&path=aHR0cHM6Ly93d3cuY29tZXQuY29tL29waWsvYXBpLw==\" target=\"_blank\">in your Opik dashboard</a>.\n",
              "</pre>\n"
            ]
          },
          "metadata": {}
        }
      ],
      "source": [
        "from opik.evaluation.metrics import Hallucination, Equals\n",
        "from opik.evaluation import evaluate\n",
        "from opik import Opik\n",
        "from opik.evaluation.metrics.llm_judges.hallucination.template import generate_query\n",
        "from typing import Dict\n",
        "\n",
        "\n",
        "# Define the evaluation task\n",
        "def evaluation_task(x: Dict):\n",
        "    metric = Hallucination()\n",
        "    try:\n",
        "        metric_score = metric.score(input=x[\"input\"], output=x[\"llm_output\"])\n",
        "        hallucination_score = metric_score.value\n",
        "        hallucination_reason = metric_score.reason\n",
        "    except Exception as e:\n",
        "        print(e)\n",
        "        hallucination_score = None\n",
        "        hallucination_reason = str(e)\n",
        "\n",
        "    return {\n",
        "        \"hallucination_score\": \"yes\" if hallucination_score == 1 else \"no\",\n",
        "        \"hallucination_reason\": hallucination_reason,\n",
        "    }\n",
        "\n",
        "\n",
        "# Get the dataset\n",
        "client = Opik()\n",
        "dataset = client.get_dataset(name=\"HaluEval\")\n",
        "\n",
        "# Define the scoring metric\n",
        "check_hallucinated_metric = Equals(name=\"Correct hallucination score\")\n",
        "\n",
        "# Add the prompt template as an experiment configuration\n",
        "experiment_config = {\n",
        "    \"prompt_template\": generate_query(\n",
        "        input=\"{input}\", context=\"{context}\", output=\"{output}\", few_shot_examples=[]\n",
        "    )\n",
        "}\n",
        "\n",
        "res = evaluate(\n",
        "    dataset=dataset,\n",
        "    task=evaluation_task,\n",
        "    scoring_metrics=[check_hallucinated_metric],\n",
        "    experiment_config=experiment_config,\n",
        "    scoring_key_mapping={\n",
        "        \"reference\": \"expected_hallucination_label\",\n",
        "        \"output\": \"hallucination_score\",\n",
        "    },\n",
        ")"
      ]
    },
    {
      "cell_type": "markdown",
      "metadata": {
        "id": "mfchgguaGQBn"
      },
      "source": [
        "We can see that the hallucination metric is able to detect ~80% of the hallucinations contained in the dataset and we can see the specific items where hallucinations were not detected.\n",
        "\n",
        "![Hallucination Evaluation](https://raw.githubusercontent.com/comet-ml/opik/main/apps/opik-documentation/documentation/fern/img/cookbook/hallucination_metric_cookbook.png)"
      ]
    },
    {
      "cell_type": "markdown",
      "metadata": {
        "id": "Snq5BD1DGQBn"
      },
      "source": []
    }
  ],
  "metadata": {
    "kernelspec": {
      "display_name": "Python 3 (ipykernel)",
      "language": "python",
      "name": "python3"
    },
    "language_info": {
      "codemirror_mode": {
        "name": "ipython",
        "version": 3
      },
      "file_extension": ".py",
      "mimetype": "text/x-python",
      "name": "python",
      "nbconvert_exporter": "python",
      "pygments_lexer": "ipython3",
      "version": "3.12.4"
    },
    "colab": {
      "provenance": [],
      "include_colab_link": true
    }
  },
  "nbformat": 4,
  "nbformat_minor": 0
}